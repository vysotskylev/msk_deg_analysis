{
 "cells": [
  {
   "cell_type": "code",
   "execution_count": 2,
   "metadata": {},
   "outputs": [],
   "source": [
    "import json\n",
    "from datetime import datetime, timedelta\n",
    "import matplotlib.pyplot as plt\n",
    "import matplotlib\n",
    "%matplotlib inline\n",
    "\n",
    "font = {'family' : 'normal',\n",
    "        'size'   : 18}\n",
    "\n",
    "matplotlib.rc('font', **font)\n"
   ]
  },
  {
   "cell_type": "code",
   "execution_count": 3,
   "metadata": {},
   "outputs": [],
   "source": [
    "with open(\"data/config.json\") as f:\n",
    "    config = json.load(f)\n",
    "candidates = {}\n",
    "name_to_district = {}\n",
    "for district in config[\"ballots_config\"]:\n",
    "    for id_, name in district[\"options\"].items():\n",
    "        candidates[int(id_)] = name\n",
    "        name_to_district[name] = district[\"district_id\"]\n",
    "\n",
    "FORMAT = \"%Y-%m-%dT%H:%M:%S\"\n",
    "LEN = len(\"2021-09-17T08:18:18\")\n",
    "\n",
    "def read(fname):\n",
    "    times = {\n",
    "        name: [] for name in candidates.values()\n",
    "    }\n",
    "    with open(fname) as f:\n",
    "        for l in f:\n",
    "            d = json.loads(l)\n",
    "            if d[\"vote\"] in candidates:\n",
    "                date = datetime.strptime(d[\"datetime\"][:LEN], FORMAT)\n",
    "                times[candidates[d[\"vote\"]]].append(date.timestamp() - 3 * 60 * 60)\n",
    "                \n",
    "    votes_by_district = {\n",
    "        id_: {} for id_ in name_to_district.values()\n",
    "    }\n",
    "    for name, votes in times.items():\n",
    "        votes_by_district[name_to_district[name]][name] = len(votes)\n",
    "    return times, votes_by_district\n",
    "\n",
    "times_all, votes_all = read(\"data/vote_times.jsonl\")\n",
    "# times_decrypted = read(\"vote_times_decrypted.jsonl\")"
   ]
  },
  {
   "cell_type": "code",
   "execution_count": 17,
   "metadata": {},
   "outputs": [],
   "source": [
    "def make_ticks():\n",
    "    ticks = []\n",
    "    labels = []\n",
    "    for hours in range(8, 24 * 2 + 22, 2):\n",
    "        d = datetime(2021, 9, 17) + timedelta(hours=hours)\n",
    "        ticks.append((d - timedelta(hours=3)).timestamp())\n",
    "        if d.hour == 0:\n",
    "            labels.append(\"{} сен\".format(d.day))\n",
    "        else:\n",
    "            labels.append(\"{:02}\".format(d.hour))\n",
    "    return ticks, labels\n",
    "\n",
    "def draw_comparison(times, name1, name2, district, colors=None):\n",
    "    fig, (ax1, ax2) = plt.subplots(nrows=2, figsize=(20,15))\n",
    "    \n",
    "    ns, bins, patches = ax1.hist(\n",
    "        [times[name1], times[name2]],\n",
    "        bins=70,\n",
    "        stacked=False,\n",
    "        color=colors,\n",
    "        label=[name1, name2],\n",
    "    )\n",
    "    ax1.legend()\n",
    "    ticks, labels = make_ticks()\n",
    "    ax1.set_xticks(ticks)\n",
    "    ax1.set_xticklabels(labels)\n",
    "    ax1.tick_params(axis='x', rotation=45)\n",
    "    ax1.set_ylabel('Количество голосов в интервале')\n",
    "    \n",
    "    ax2.bar(bins[:-1], ns[1] / ns[0], width=2*patches[0].get_children()[0].get_width())\n",
    "    ax2.set_ylabel('Отношение {} / {}'.format(name2.split()[0], name1.split()[0]))\n",
    "    \n",
    "    ax2.set_xticks(ticks)\n",
    "    ax2.set_xticklabels(labels)\n",
    "    ax2.tick_params(axis='x', rotation=45)\n",
    "    \n",
    "    plt.savefig(\"images/Comparison_{}_{}_{}.png\".format(district, name1.split()[0], name2.split()[0]))"
   ]
  },
  {
   "cell_type": "code",
   "execution_count": 18,
   "metadata": {},
   "outputs": [],
   "source": [
    "def find(substr):\n",
    "    matching = [name for name in candidates.values() if substr.upper() == name.split()[0].upper()]\n",
    "    assert len(matching) == 1, matching\n",
    "    return matching[0]"
   ]
  },
  {
   "cell_type": "code",
   "execution_count": null,
   "metadata": {},
   "outputs": [],
   "source": [
    "for district, votes in votes_all.items():\n",
    "    print(\"Processing\", district)\n",
    "    s = sorted(votes.items(), key=lambda t: -t[1])\n",
    "    draw_comparison(times_all, s[1][0], s[0][0], district, colors=[\"red\", \"blue\"])\n",
    "    draw_comparison(times_all, s[2][0], s[1][0], district, colors=[\"green\", \"red\"])"
   ]
  }
 ],
 "metadata": {
  "kernelspec": {
   "display_name": "Python 3",
   "language": "python",
   "name": "python3"
  },
  "language_info": {
   "codemirror_mode": {
    "name": "ipython",
    "version": 3
   },
   "file_extension": ".py",
   "mimetype": "text/x-python",
   "name": "python",
   "nbconvert_exporter": "python",
   "pygments_lexer": "ipython3",
   "version": "3.8.10"
  }
 },
 "nbformat": 4,
 "nbformat_minor": 2
}
