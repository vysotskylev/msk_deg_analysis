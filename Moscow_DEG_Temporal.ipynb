{
 "cells": [
  {
   "cell_type": "code",
   "execution_count": null,
   "metadata": {},
   "outputs": [],
   "source": [
    "import json\n",
    "from datetime import datetime, timedelta\n",
    "import matplotlib.pyplot as plt\n",
    "import matplotlib\n",
    "import numpy as np\n",
    "\n",
    "%matplotlib inline\n",
    "\n",
    "font = {'family' : 'normal',\n",
    "        'size'   : 18}\n",
    "\n",
    "matplotlib.rc('font', **font)\n"
   ]
  },
  {
   "cell_type": "code",
   "execution_count": null,
   "metadata": {},
   "outputs": [],
   "source": [
    "with open(\"data/config.json\") as f:\n",
    "    config = json.load(f)\n",
    "candidates = {}\n",
    "name_to_district = {}\n",
    "for district in config[\"ballots_config\"]:\n",
    "    for id_, name in district[\"options\"].items():\n",
    "        candidates[int(id_)] = name\n",
    "        name_to_district[name] = district[\"district_id\"]\n",
    "\n",
    "FORMAT = \"%Y-%m-%dT%H:%M:%S\"\n",
    "LEN = len(\"2021-09-17T08:18:18\")\n",
    "\n",
    "def read(fname):\n",
    "    times = {\n",
    "        name: [] for name in candidates.values()\n",
    "    }\n",
    "    with open(fname) as f:\n",
    "        for l in f:\n",
    "            d = json.loads(l)\n",
    "            if d[\"vote\"] in candidates:\n",
    "                date = datetime.strptime(d[\"datetime\"][:LEN], FORMAT)\n",
    "                times[candidates[d[\"vote\"]]].append(date.timestamp() - 3 * 60 * 60)\n",
    "                \n",
    "    votes_by_district = {\n",
    "        id_: {} for id_ in name_to_district.values()\n",
    "    }\n",
    "    for name, votes in times.items():\n",
    "        votes_by_district[name_to_district[name]][name] = len(votes)\n",
    "    return times, votes_by_district\n",
    "\n",
    "times_all, votes_all = read(\"data/vote_times.jsonl\")\n",
    "# times_decrypted, votes_decrypted = read(\"data/vote_times_decrypted.jsonl\")"
   ]
  },
  {
   "cell_type": "code",
   "execution_count": null,
   "metadata": {},
   "outputs": [],
   "source": [
    "def make_ticks():\n",
    "    ticks = []\n",
    "    labels = []\n",
    "    for hours in range(8, 24 * 2 + 22, 2):\n",
    "        d = datetime(2021, 9, 17) + timedelta(hours=hours)\n",
    "        ticks.append((d - timedelta(hours=3)).timestamp())\n",
    "        if d.hour == 0:\n",
    "            labels.append(\"{} сен\".format(d.day))\n",
    "        else:\n",
    "            labels.append(\"{:02}\".format(d.hour))\n",
    "    return ticks, labels\n",
    "\n",
    "def draw_comparison(times, name1, name2, district, colors=None):\n",
    "    fig, (ax1, ax2) = plt.subplots(nrows=2, figsize=(20,15))\n",
    "\n",
    "    ns, bins, patches = ax1.hist(\n",
    "        [times[name1], times[name2]],\n",
    "        bins=70,\n",
    "        stacked=False,\n",
    "        color=colors,\n",
    "        label=[name1, name2],\n",
    "    )\n",
    "    ax1.legend()\n",
    "    ticks, labels = make_ticks()\n",
    "    ax1.set_xticks(ticks)\n",
    "    ax1.set_xticklabels(labels)\n",
    "    ax1.tick_params(axis='x', rotation=45)\n",
    "    ax1.set_ylabel('Количество голосов в интервале')\n",
    "    \n",
    "    ax2.bar(bins[:-1], ns[1] / ns[0], width=2*patches[0].get_children()[0].get_width())\n",
    "    ax2.set_ylabel('Отношение {} / {}'.format(name2.split()[0], name1.split()[0]))\n",
    "    \n",
    "    ax2.set_xticks(ticks)\n",
    "    ax2.set_xticklabels(labels)\n",
    "    ax2.tick_params(axis='x', rotation=45)\n",
    "    \n",
    "    plt.savefig(\"images/Comparison_{}_{}_{}.png\".format(district, name1.split()[0], name2.split()[0]))"
   ]
  },
  {
   "cell_type": "code",
   "execution_count": null,
   "metadata": {},
   "outputs": [],
   "source": [
    "def find(substr):\n",
    "    matching = [name for name in candidates.values() if substr.upper() == name.split()[0].upper()]\n",
    "    assert len(matching) == 1, matching\n",
    "    return matching[0]"
   ]
  },
  {
   "cell_type": "code",
   "execution_count": null,
   "metadata": {},
   "outputs": [],
   "source": [
    "def analyze_top_3_in_district(district, votes, times):\n",
    "    print(\"Processing\", district)\n",
    "    s = sorted(votes.items(), key=lambda t: -t[1])\n",
    "    draw_comparison(times, s[1][0], s[0][0], district, colors=[\"red\", \"blue\"])\n",
    "    draw_comparison(times, s[2][0], s[1][0], district, colors=[\"green\", \"red\"])\n",
    "#     draw_comparison(times, s[5][0], s[4][0], district, colors=[\"green\", \"red\"])"
   ]
  },
  {
   "cell_type": "code",
   "execution_count": null,
   "metadata": {},
   "outputs": [],
   "source": [
    "for district, votes in votes_decrypted.items():\n",
    "    analyze_top_3_in_district(district, votes, times_decrypted)"
   ]
  },
  {
   "cell_type": "code",
   "execution_count": null,
   "metadata": {},
   "outputs": [],
   "source": [
    "analyze_top_3_in_district(205, votes_all[205], times_all)"
   ]
  },
  {
   "cell_type": "code",
   "execution_count": null,
   "metadata": {},
   "outputs": [],
   "source": [
    "import scipy.ndimage\n",
    "\n",
    "def smoothen(data, sigma):\n",
    "    return scipy.ndimage.gaussian_filter(data, sigma)\n",
    "\n",
    "def draw_comparison_smooth(times, name1, name2, district, colors):\n",
    "    h1, _ = np.histogram(times[name1], bins=100, density=True)\n",
    "    h2, _ = np.histogram(times[name2], bins=100, density=True)\n",
    "    \n",
    "    h1_smooth = smoothen(h1, 2)\n",
    "    h2_smooth = smoothen(h2, 2)\n",
    "    plt.plot(h2_smooth, color=colors[1])\n",
    "    plt.plot(h1_smooth, color=colors[0])"
   ]
  },
  {
   "cell_type": "code",
   "execution_count": null,
   "metadata": {},
   "outputs": [],
   "source": [
    "def make_baseline(district, votes, times, bin_count=100, bins=None):\n",
    "    s = sorted(votes.items(), key=lambda t: -t[1])\n",
    "    if bins is None:\n",
    "        bins = np.linspace(np.min(times[s[0][0]]), np.max(times[s[0][0]]), num=bin_count+1)\n",
    "    baseline_h = np.zeros(bin_count)\n",
    "    for name, _ in s[2:]:\n",
    "        h, _ = np.histogram(times[name], bins=bins)\n",
    "        baseline_h += h\n",
    "    baseline_h /= np.sum(baseline_h)\n",
    "    return baseline_h, bins\n",
    "\n",
    "def analyze_top_3_in_district_smooth(district, votes, times):\n",
    "    print(\"Processing\", district)    \n",
    "    s = sorted(votes.items(), key=lambda t: -t[1])\n",
    "\n",
    "    \n",
    "    plt.figure(figsize=(20,10))\n",
    "    \n",
    "    baseline_h, bins = make_baseline(district, votes, times)\n",
    "    plt.plot(bins[:-1], smoothen(baseline_h, 1.5), color=\"black\", lw=4, ls=':', label=\"Сумма по всем кандидатам, кроме 1-го и 2-го\")\n",
    "    \n",
    "    ticks, labels = make_ticks()\n",
    "    ax = plt.gca()\n",
    "    ax.set_xticks(ticks)\n",
    "    ax.set_xticklabels(labels)\n",
    "    ax.tick_params(axis='x', rotation=45)\n",
    "\n",
    "    colors = [\"blue\", \"red\", \"green\", \"purple\"]\n",
    "    n = 4\n",
    "    for color, (name, _) in zip(colors[:n], s[:n]):\n",
    "        h1, _ = np.histogram(times[name], bins=bins)\n",
    "        h1 = h1.astype(float)\n",
    "        print(name, np.sum(h1))\n",
    "        h1 /= np.sum(h1)\n",
    "        h1_smooth = smoothen(h1, 1.5)\n",
    "        plt.plot(bins[:-1], h1_smooth, color=color, label=name)\n",
    "    plt.legend()\n",
    "    plt.ylabel(\"Доля от всех голосов за кандидата\")"
   ]
  },
  {
   "cell_type": "code",
   "execution_count": null,
   "metadata": {},
   "outputs": [],
   "source": [
    "analyze_top_3_in_district_smooth(207, votes_all[207], times_all)"
   ]
  },
  {
   "cell_type": "code",
   "execution_count": null,
   "metadata": {},
   "outputs": [],
   "source": [
    "districts = range(196, 211)\n",
    "plt.figure(figsize=(20,10))\n",
    "bins = None\n",
    "\n",
    "for district in districts:\n",
    "    h, bins = make_baseline(district, votes_all[district], times_all, bin_count=100, bins=bins)\n",
    "#     h /= np.sum(baseline)\n",
    "    h_smooth = smoothen(h, 1.5)\n",
    "#     #     h2_smooth = smoothen(h2, 2)\n",
    "    plt.plot(bins[:-1], h_smooth)"
   ]
  },
  {
   "cell_type": "code",
   "execution_count": null,
   "metadata": {},
   "outputs": [],
   "source": [
    "districts = range(196, 211)\n",
    "plt.figure(figsize=(20,10))\n",
    "\n",
    "bins = 100\n",
    "\n",
    "top_sum = np.zeros(100)\n",
    "second_sum = np.zeros(100)\n",
    "third_sum = np.zeros(100)\n",
    "fourth_sum = np.zeros(100)\n",
    "baseline_sum = np.zeros(100)\n",
    "\n",
    "for district in districts:\n",
    "    s = sorted(votes_all[district].items(), key=lambda t: -t[1])\n",
    "    name = s[0][0]\n",
    "    h, bins = np.histogram(times_all[name], bins=100)\n",
    "    top_sum += h\n",
    "    \n",
    "    second_sum += np.histogram(times_all[s[1][0]], bins=100)[0]\n",
    "    third_sum += np.histogram(times_all[s[2][0]], bins=100)[0]\n",
    "    fourth_sum += np.histogram(times_all[s[3][0]], bins=100)[0]\n",
    "    \n",
    "    h = h.astype(float) / np.sum(h)\n",
    "    h_smooth = smoothen(h, 1.5)\n",
    "    plt.plot(bins[:-1], h_smooth)\n",
    "    \n",
    "    baseline, bins = make_baseline(district, votes_all[district], times_all, bin_count=100, bins=bins)\n",
    "    baseline_sum += baseline\n",
    "    \n",
    "    baseline /= np.sum(baseline)\n",
    "    \n",
    "    baseline_smooth = smoothen(baseline, 1.5)\n",
    "    plt.plot(bins[:-1], baseline_smooth, ls=\":\")\n",
    "#     #     h2_smooth = smoothen(h2, 2)\n",
    "    \n",
    "#     h1, _ = np.histogram(times[name], bins=bins)"
   ]
  },
  {
   "cell_type": "code",
   "execution_count": null,
   "metadata": {},
   "outputs": [],
   "source": [
    "top_avg = top_sum / np.sum(top_sum)\n",
    "second_avg = second_sum / np.sum(second_sum)\n",
    "third_avg = third_sum / np.sum(third_sum)\n",
    "fourth_avg = fourth_sum / np.sum(fourth_sum)\n",
    "baseline_avg = baseline_sum / np.sum(baseline_sum)\n",
    "plt.figure(figsize=(20,10))\n",
    "plt.plot(bins[:-1], smoothen(baseline_avg, 1.5), ls=\":\", lw=4, label=\"normal\")\n",
    "plt.plot(bins[:-1], smoothen(top_avg, 1.5), label=\"top\")\n",
    "\n",
    "plt.plot(bins[:-1], smoothen(second_avg, 1.5), label=\"second\")\n",
    "plt.plot(bins[:-1], smoothen(third_avg, 1.5), label=\"third\")\n",
    "plt.plot(bins[:-1], smoothen(fourth_avg, 1.5), label=\"fourth\")\n",
    "plt.legend()\n"
   ]
  },
  {
   "cell_type": "code",
   "execution_count": null,
   "metadata": {},
   "outputs": [],
   "source": [
    "def draw_comparison_ratio(times, names, district, colors=None, inds=[[0,1], [2,3]]):\n",
    "#     fig, (ax1, ax2) = plt.subplots(nrows=2, figsize=(20,15))\n",
    "    bins = 100\n",
    "    hs = []\n",
    "    low = np.zeros(bins)\n",
    "    for name in names:\n",
    "        h, bins = np.histogram(times[name], bins=bins)\n",
    "        low = np.logical_or(low, h < 10)\n",
    "        h = smoothen(h, 4)\n",
    "        hs.append(h)\n",
    "    \n",
    "    r12 = hs[inds[0][0]] / hs[inds[0][1]]\n",
    "    r34 = hs[inds[1][0]] / hs[inds[1][1]]\n",
    "    plt.plot(bins[:-1], r12 - np.average(r12), color=\"red\", label=\"Отношение 1-го ко 2-dму, сдвинутое на среднее\")\n",
    "    plt.plot(bins[:-1], r34 - np.average(r34), color=\"green\", label=\"Отношение 3-го к 4-му, сдвинутое на среднее\")"
   ]
  },
  {
   "cell_type": "code",
   "execution_count": null,
   "metadata": {},
   "outputs": [],
   "source": [
    "plt.figure(figsize=(20,10))\n",
    "for district in range(196, 211):\n",
    "    names = [t[0] for t in sorted(votes_all[district].items(), key=lambda t: -t[1])]\n",
    "    draw_comparison_ratio(times_all, names, district)\n",
    "ticks, labels = make_ticks()\n",
    "ax = plt.gca()\n",
    "ax.set_xticks(ticks)\n",
    "ax.set_xticklabels(labels)\n",
    "ax.tick_params(axis='x', rotation=45)\n",
    "plt.legend(labels=[\"Отношение 1-го ко 2-му, сдвинутое на среднее\",  \"Отношение 3-го к 4-му, сдвинутое на среднее\"])\n",
    "_ = plt.xlabel(\"Дата и время\")\n",
    "plt.savefig(\"images/ratios.png\")"
   ]
  },
  {
   "cell_type": "code",
   "execution_count": null,
   "metadata": {},
   "outputs": [],
   "source": [
    "plt.figure(figsize=(20,15))\n",
    "for district in range(196, 211):\n",
    "    names = [t[0] for t in sorted(votes_all[district].items(), key=lambda t: -t[1])]\n",
    "    draw_comparison_ratio(times_all, names, district, inds=[[1,2],[2,3]])\n",
    "ticks, labels = make_ticks()\n",
    "ax = plt.gca()\n",
    "ax.set_xticks(ticks)\n",
    "ax.set_xticklabels(labels)\n",
    "ax.tick_params(axis='x', rotation=45)\n",
    "plt.legend(labels=[\"Отношение 2-го ко 3-му, сдвинутое на среднее\",  \"Отношение 3-го к 4-му, сдвинутое на среднее\"])\n",
    "_ = plt.xlabel(\"Дата и время\")"
   ]
  },
  {
   "cell_type": "code",
   "execution_count": null,
   "metadata": {},
   "outputs": [],
   "source": [
    "draw_comparison(times_all, find(\"Лобанов\"), find(\"Попов\"), 197, colors=[\"red\", \"blue\"])\n",
    "draw_comparison(times_all, find(\"Тарнавский\"), find(\"Бальмонт\"), 197, colors=[\"green\", \"purple\"])"
   ]
  },
  {
   "cell_type": "code",
   "execution_count": null,
   "metadata": {},
   "outputs": [],
   "source": [
    "votes_all[197]"
   ]
  },
  {
   "cell_type": "code",
   "execution_count": null,
   "metadata": {},
   "outputs": [],
   "source": [
    "def draw_comparison_ratio_total(times, votes, inds=[[0,1], [2,3]], colors=[\"red\", \"green\"]):\n",
    "#     fig, (ax1, ax2) = plt.subplots(nrows=2, figsize=(20,15))\n",
    "    bins = 100\n",
    "    hs = [np.zeros(bins) for i in range(20)]\n",
    "    low = np.zeros(bins)\n",
    "    for district, votes_ in votes.items():\n",
    "        s = sorted(votes_.items(), key=lambda t: -t[1])\n",
    "        for i, (name, _) in enumerate(s):\n",
    "            h, bins = np.histogram(times[name], bins=bins)\n",
    "            hs[i] += h\n",
    "    for i in range(len(hs)):\n",
    "        hs[i] = smoothen(hs[i], 4)\n",
    "\n",
    "    for (i1, i2), color in zip(inds, colors):\n",
    "        ratio = hs[i1] / hs[i2]\n",
    "        plt.plot(bins[:-1], ratio - np.average(ratio), color=color, lw=3)\n",
    "\n",
    "plt.figure(figsize=(20,10))\n",
    "# for district in range(196, 211):\n",
    "#     names = [t[0] for t in sorted(votes_all[district].items(), key=lambda t: -t[1])]\n",
    "draw_comparison_ratio_total(times_all, votes_all, inds=[[0,1],[1,2],[2,3],[3,4]], colors=[\"red\", \"orange\", \"green\", \"purple\"])\n",
    "ticks, labels = make_ticks()\n",
    "ax = plt.gca()\n",
    "ax.set_xticks(ticks)\n",
    "ax.set_xticklabels(labels)\n",
    "ax.tick_params(axis='x', rotation=45)\n",
    "plt.legend(labels=[\"Отношение 1-го ко 2-му, сдвинутое на среднее\", \"Отношение 2-го к 3-му, сдвинутое на среднее\",  \"Отношение 3-го к 4-му, сдвинутое на среднее\"])\n",
    "_ = plt.xlabel(\"Дата и время\")\n",
    "plt.savefig(\"images/total_ratio_1vs2_2vs3_3vs4.png\")"
   ]
  },
  {
   "cell_type": "code",
   "execution_count": null,
   "metadata": {},
   "outputs": [],
   "source": [
    "plt.figure(figsize=(20,10))\n",
    "# for district in range(196, 211):\n",
    "#     names = [t[0] for t in sorted(votes_all[district].items(), key=lambda t: -t[1])]\n",
    "draw_comparison_ratio_total(times_all, votes_all)\n",
    "ticks, labels = make_ticks()\n",
    "ax = plt.gca()\n",
    "ax.set_xticks(ticks)\n",
    "ax.set_xticklabels(labels)\n",
    "ax.tick_params(axis='x', rotation=45)\n",
    "plt.legend(labels=[\"Отношение 1-го ко 2-му, сдвинутое на среднее\", \"Отношение 3-го к 4-му, сдвинутое на среднее\"])\n",
    "_ = plt.xlabel(\"Дата и время\")\n",
    "plt.savefig(\"images/total_ratio_1vs2_3vs4.png\")"
   ]
  },
  {
   "cell_type": "code",
   "execution_count": null,
   "metadata": {},
   "outputs": [],
   "source": []
  }
 ],
 "metadata": {
  "kernelspec": {
   "display_name": "Python 3",
   "language": "python",
   "name": "python3"
  },
  "language_info": {
   "codemirror_mode": {
    "name": "ipython",
    "version": 3
   },
   "file_extension": ".py",
   "mimetype": "text/x-python",
   "name": "python",
   "nbconvert_exporter": "python",
   "pygments_lexer": "ipython3",
   "version": "3.8.10"
  }
 },
 "nbformat": 4,
 "nbformat_minor": 2
}
